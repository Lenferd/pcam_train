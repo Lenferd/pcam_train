{
  "nbformat": 4,
  "nbformat_minor": 0,
  "metadata": {
    "colab": {
      "name": "pcam_lab_5_densnet-from-scratch.ipynb",
      "provenance": [],
      "collapsed_sections": [
        "vJjLfR2M2gIg",
        "MvcsVicR2ljF",
        "s4spZcAvOQR7",
        "I08rfaiiOU4c",
        "KBkFhZL-aU4i"
      ],
      "machine_shape": "hm",
      "include_colab_link": true
    },
    "kernelspec": {
      "name": "python3",
      "display_name": "Python 3"
    },
    "accelerator": "GPU"
  },
  "cells": [
    {
      "cell_type": "markdown",
      "metadata": {
        "id": "view-in-github",
        "colab_type": "text"
      },
      "source": [
        "<a href=\"https://colab.research.google.com/github/Lenferd/pcam_train/blob/lab5/lab-5-learning-transfer/pcam_lab_5_densnet_from_scratch.ipynb\" target=\"_parent\"><img src=\"https://colab.research.google.com/assets/colab-badge.svg\" alt=\"Open In Colab\"/></a>"
      ]
    },
    {
      "cell_type": "markdown",
      "metadata": {
        "id": "17hzDP__RftE",
        "colab_type": "text"
      },
      "source": [
        "# Keras imports"
      ]
    },
    {
      "cell_type": "code",
      "metadata": {
        "id": "EcozEEXAmf2h",
        "colab_type": "code",
        "outputId": "b0f44b76-bafb-4514-b313-65ddb1b67af1",
        "colab": {
          "base_uri": "https://localhost:8080/",
          "height": 267
        }
      },
      "source": [
        "import os\n",
        "import tensorflow as tf\n",
        "import numpy as np\n",
        "\n",
        "%pip install keras-metrics\n",
        "os.environ['TF_CPP_MIN_LOG_LEVEL'] = '3'"
      ],
      "execution_count": 1,
      "outputs": [
        {
          "output_type": "display_data",
          "data": {
            "text/html": [
              "<p style=\"color: red;\">\n",
              "The default version of TensorFlow in Colab will soon switch to TensorFlow 2.x.<br>\n",
              "We recommend you <a href=\"https://www.tensorflow.org/guide/migrate\" target=\"_blank\">upgrade</a> now \n",
              "or ensure your notebook will continue to use TensorFlow 1.x via the <code>%tensorflow_version 1.x</code> magic:\n",
              "<a href=\"https://colab.research.google.com/notebooks/tensorflow_version.ipynb\" target=\"_blank\">more info</a>.</p>\n"
            ],
            "text/plain": [
              "<IPython.core.display.HTML object>"
            ]
          },
          "metadata": {
            "tags": []
          }
        },
        {
          "output_type": "stream",
          "text": [
            "Collecting keras-metrics\n",
            "  Downloading https://files.pythonhosted.org/packages/32/c9/a87420da8e73de944e63a8e9cdcfb1f03ca31a7c4cdcdbd45d2cdf13275a/keras_metrics-1.1.0-py2.py3-none-any.whl\n",
            "Requirement already satisfied: Keras>=2.1.5 in /usr/local/lib/python3.6/dist-packages (from keras-metrics) (2.2.5)\n",
            "Requirement already satisfied: h5py in /usr/local/lib/python3.6/dist-packages (from Keras>=2.1.5->keras-metrics) (2.8.0)\n",
            "Requirement already satisfied: keras-applications>=1.0.8 in /usr/local/lib/python3.6/dist-packages (from Keras>=2.1.5->keras-metrics) (1.0.8)\n",
            "Requirement already satisfied: keras-preprocessing>=1.1.0 in /usr/local/lib/python3.6/dist-packages (from Keras>=2.1.5->keras-metrics) (1.1.0)\n",
            "Requirement already satisfied: six>=1.9.0 in /usr/local/lib/python3.6/dist-packages (from Keras>=2.1.5->keras-metrics) (1.12.0)\n",
            "Requirement already satisfied: pyyaml in /usr/local/lib/python3.6/dist-packages (from Keras>=2.1.5->keras-metrics) (3.13)\n",
            "Requirement already satisfied: scipy>=0.14 in /usr/local/lib/python3.6/dist-packages (from Keras>=2.1.5->keras-metrics) (1.4.1)\n",
            "Requirement already satisfied: numpy>=1.9.1 in /usr/local/lib/python3.6/dist-packages (from Keras>=2.1.5->keras-metrics) (1.17.5)\n",
            "Installing collected packages: keras-metrics\n",
            "Successfully installed keras-metrics-1.1.0\n"
          ],
          "name": "stdout"
        }
      ]
    },
    {
      "cell_type": "markdown",
      "metadata": {
        "id": "vJjLfR2M2gIg",
        "colab_type": "text"
      },
      "source": [
        "# Load dataset"
      ]
    },
    {
      "cell_type": "code",
      "metadata": {
        "id": "WkVdE6rYm0Wa",
        "colab_type": "code",
        "outputId": "4a0954ed-ad21-46ff-c202-f512b7429c10",
        "colab": {
          "base_uri": "https://localhost:8080/",
          "height": 122
        }
      },
      "source": [
        "from google.colab import drive\n",
        "drive.mount('/content/drive')\n",
        "os.chdir('/content/drive/My Drive/DL_PCAM')"
      ],
      "execution_count": 3,
      "outputs": [
        {
          "output_type": "stream",
          "text": [
            "Go to this URL in a browser: https://accounts.google.com/o/oauth2/auth?client_id=947318989803-6bn6qk8qdgf4n4g3pfee6491hc0brc4i.apps.googleusercontent.com&redirect_uri=urn%3aietf%3awg%3aoauth%3a2.0%3aoob&response_type=code&scope=email%20https%3a%2f%2fwww.googleapis.com%2fauth%2fdocs.test%20https%3a%2f%2fwww.googleapis.com%2fauth%2fdrive%20https%3a%2f%2fwww.googleapis.com%2fauth%2fdrive.photos.readonly%20https%3a%2f%2fwww.googleapis.com%2fauth%2fpeopleapi.readonly\n",
            "\n",
            "Enter your authorization code:\n",
            "··········\n",
            "Mounted at /content/drive\n"
          ],
          "name": "stdout"
        }
      ]
    },
    {
      "cell_type": "code",
      "metadata": {
        "id": "eMAGHEyDm5sw",
        "colab_type": "code",
        "colab": {}
      },
      "source": [
        "train_x_name = 'camelyonpatch_level_2_split_train_x.h5'\n",
        "train_y_name = 'camelyonpatch_level_2_split_train_y.h5'\n",
        "\n",
        "test_x_name = 'camelyonpatch_level_2_split_test_x.h5'\n",
        "test_y_name = 'camelyonpatch_level_2_split_test_y.h5'\n",
        "\n",
        "valid_x_name = 'camelyonpatch_level_2_split_valid_x.h5'\n",
        "valid_y_name = 'camelyonpatch_level_2_split_valid_y.h5'\n",
        "\n",
        "meta_train_name = 'camelyonpatch_level_2_split_train_meta.csv'\n",
        "meta_valid_name = 'camelyonpatch_level_2_split_valid_meta.csv'\n",
        "meta_test_name  = 'camelyonpatch_level_2_split_test_meta.csv'"
      ],
      "execution_count": 0,
      "outputs": []
    },
    {
      "cell_type": "code",
      "metadata": {
        "id": "ufgUbWFzalGJ",
        "colab_type": "code",
        "colab": {
          "base_uri": "https://localhost:8080/",
          "height": 34
        },
        "outputId": "40591f4e-33d6-4d4b-ece8-36cf9819e8e7"
      },
      "source": [
        "from keras.utils import HDF5Matrix, normalize\n",
        "\n",
        "x_train = HDF5Matrix(train_x_name, 'x', \n",
        "                     normalizer=lambda x: np.true_divide(x, 255.))\n",
        "y_train = HDF5Matrix(train_y_name, 'y')\n",
        "\n",
        "x_valid = HDF5Matrix(valid_x_name, 'x', \n",
        "                     normalizer=lambda x: np.true_divide(x, 255.))\n",
        "y_valid = HDF5Matrix(valid_y_name, 'y')\n",
        "\n",
        "x_test  = HDF5Matrix(test_x_name, 'x', \n",
        "                     normalizer=lambda x: np.true_divide(x, 255.))\n",
        "y_test  = HDF5Matrix(test_y_name, 'y')"
      ],
      "execution_count": 5,
      "outputs": [
        {
          "output_type": "stream",
          "text": [
            "Using TensorFlow backend.\n"
          ],
          "name": "stderr"
        }
      ]
    },
    {
      "cell_type": "markdown",
      "metadata": {
        "id": "s4spZcAvOQR7",
        "colab_type": "text"
      },
      "source": [
        "# Reshape labels"
      ]
    },
    {
      "cell_type": "code",
      "metadata": {
        "id": "NMKdtnKHqzPs",
        "colab_type": "code",
        "colab": {
          "base_uri": "https://localhost:8080/",
          "height": 102
        },
        "outputId": "0c4aabbd-6d5a-4972-bf23-e7e4fbdad88d"
      },
      "source": [
        "# Input image dimensions.\n",
        "input_shape = x_train.shape[1:]\n",
        "\n",
        "y_train = np.array(y_train)\n",
        "y_train = y_train.reshape((y_train.shape[0], 1))\n",
        "\n",
        "y_valid = np.array(y_valid)\n",
        "y_valid = y_valid.reshape((y_valid.shape[0], 1))\n",
        "\n",
        "y_test = np.array(y_test)\n",
        "y_test = y_test.reshape((y_test.shape[0], 1))\n",
        "\n",
        "print('input share:', input_shape)\n",
        "print('x_train shape:', x_train.shape)\n",
        "\n",
        "print(x_train.shape[0], 'train samples')\n",
        "print(x_test.shape[0], 'test samples')\n",
        "print('y_train shape:', y_train.shape)"
      ],
      "execution_count": 6,
      "outputs": [
        {
          "output_type": "stream",
          "text": [
            "input share: (96, 96, 3)\n",
            "x_train shape: (262144, 96, 96, 3)\n",
            "262144 train samples\n",
            "32768 test samples\n",
            "y_train shape: (262144, 1)\n"
          ],
          "name": "stdout"
        }
      ]
    },
    {
      "cell_type": "code",
      "metadata": {
        "id": "JSriCIhVc7Pw",
        "colab_type": "code",
        "colab": {
          "base_uri": "https://localhost:8080/",
          "height": 85
        },
        "outputId": "a1e509b5-81a2-402b-e6aa-24e514ff5330"
      },
      "source": [
        "y_train = y_train.reshape((y_train.shape[0], 1))\n",
        "print(\"1 in train : {}\".format(np.count_nonzero(y_train == 1)))\n",
        "print(\"0 in train : {}\".format(np.count_nonzero(y_train == 0)))\n",
        "\n",
        "y_valid = y_valid.reshape((y_valid.shape[0], 1))\n",
        "print(\"1 in valid : {}\".format(np.count_nonzero(y_valid == 1)))\n",
        "print(\"0 in valid : {}\".format(np.count_nonzero(y_valid == 0)))"
      ],
      "execution_count": 7,
      "outputs": [
        {
          "output_type": "stream",
          "text": [
            "1 in train : 131072\n",
            "0 in train : 131072\n",
            "1 in valid : 16369\n",
            "0 in valid : 16399\n"
          ],
          "name": "stdout"
        }
      ]
    },
    {
      "cell_type": "markdown",
      "metadata": {
        "id": "S-qVqj0cOLi9",
        "colab_type": "text"
      },
      "source": [
        "# Prepare Densnet121 model"
      ]
    },
    {
      "cell_type": "code",
      "metadata": {
        "id": "V-NzsBbVPWGi",
        "colab_type": "code",
        "colab": {}
      },
      "source": [
        "from keras.applications.densenet import DenseNet121\n",
        "from keras.models import Sequential\n",
        "from keras import layers\n",
        "\n",
        "def denseNet_empty(input_shape, num_classes=1):\n",
        "  densenet_model = DenseNet121(weights=None, include_top=False, input_shape=input_shape)\n",
        "  model = Sequential()\n",
        "  model.add(densenet_model)\n",
        "  model.add(layers.GlobalAveragePooling2D())\n",
        "  model.add(layers.Dense(1, activation='sigmoid', name='fc1', kernel_initializer = 'he_normal'))\n",
        "  return model"
      ],
      "execution_count": 0,
      "outputs": []
    },
    {
      "cell_type": "code",
      "metadata": {
        "id": "xmqULD8y83_k",
        "colab_type": "code",
        "colab": {
          "base_uri": "https://localhost:8080/",
          "height": 513
        },
        "outputId": "332d9395-b582-4026-ec2d-f83e1a571347"
      },
      "source": [
        "model = denseNet_empty(input_shape)"
      ],
      "execution_count": 10,
      "outputs": [
        {
          "output_type": "stream",
          "text": [
            "WARNING:tensorflow:From /usr/local/lib/python3.6/dist-packages/keras/backend/tensorflow_backend.py:66: The name tf.get_default_graph is deprecated. Please use tf.compat.v1.get_default_graph instead.\n",
            "\n",
            "WARNING:tensorflow:From /usr/local/lib/python3.6/dist-packages/keras/backend/tensorflow_backend.py:541: The name tf.placeholder is deprecated. Please use tf.compat.v1.placeholder instead.\n",
            "\n",
            "WARNING:tensorflow:From /usr/local/lib/python3.6/dist-packages/keras/backend/tensorflow_backend.py:4432: The name tf.random_uniform is deprecated. Please use tf.random.uniform instead.\n",
            "\n",
            "WARNING:tensorflow:From /usr/local/lib/python3.6/dist-packages/keras/backend/tensorflow_backend.py:190: The name tf.get_default_session is deprecated. Please use tf.compat.v1.get_default_session instead.\n",
            "\n",
            "WARNING:tensorflow:From /usr/local/lib/python3.6/dist-packages/keras/backend/tensorflow_backend.py:197: The name tf.ConfigProto is deprecated. Please use tf.compat.v1.ConfigProto instead.\n",
            "\n",
            "WARNING:tensorflow:From /usr/local/lib/python3.6/dist-packages/keras/backend/tensorflow_backend.py:203: The name tf.Session is deprecated. Please use tf.compat.v1.Session instead.\n",
            "\n",
            "WARNING:tensorflow:From /usr/local/lib/python3.6/dist-packages/keras/backend/tensorflow_backend.py:207: The name tf.global_variables is deprecated. Please use tf.compat.v1.global_variables instead.\n",
            "\n",
            "WARNING:tensorflow:From /usr/local/lib/python3.6/dist-packages/keras/backend/tensorflow_backend.py:216: The name tf.is_variable_initialized is deprecated. Please use tf.compat.v1.is_variable_initialized instead.\n",
            "\n",
            "WARNING:tensorflow:From /usr/local/lib/python3.6/dist-packages/keras/backend/tensorflow_backend.py:223: The name tf.variables_initializer is deprecated. Please use tf.compat.v1.variables_initializer instead.\n",
            "\n",
            "WARNING:tensorflow:From /usr/local/lib/python3.6/dist-packages/keras/backend/tensorflow_backend.py:2041: The name tf.nn.fused_batch_norm is deprecated. Please use tf.compat.v1.nn.fused_batch_norm instead.\n",
            "\n",
            "WARNING:tensorflow:From /usr/local/lib/python3.6/dist-packages/keras/backend/tensorflow_backend.py:148: The name tf.placeholder_with_default is deprecated. Please use tf.compat.v1.placeholder_with_default instead.\n",
            "\n",
            "WARNING:tensorflow:From /usr/local/lib/python3.6/dist-packages/keras/backend/tensorflow_backend.py:4267: The name tf.nn.max_pool is deprecated. Please use tf.nn.max_pool2d instead.\n",
            "\n",
            "WARNING:tensorflow:From /usr/local/lib/python3.6/dist-packages/keras/backend/tensorflow_backend.py:4271: The name tf.nn.avg_pool is deprecated. Please use tf.nn.avg_pool2d instead.\n",
            "\n",
            "WARNING:tensorflow:From /usr/local/lib/python3.6/dist-packages/keras/backend/tensorflow_backend.py:4479: The name tf.truncated_normal is deprecated. Please use tf.random.truncated_normal instead.\n",
            "\n"
          ],
          "name": "stdout"
        }
      ]
    },
    {
      "cell_type": "markdown",
      "metadata": {
        "id": "sc1ftuInPW1g",
        "colab_type": "text"
      },
      "source": [
        "## Densnet info"
      ]
    },
    {
      "cell_type": "markdown",
      "metadata": {
        "id": "VNs1IltVST8f",
        "colab_type": "text"
      },
      "source": [
        "### Summary"
      ]
    },
    {
      "cell_type": "code",
      "metadata": {
        "id": "cFHzrBhjSW3W",
        "colab_type": "code",
        "outputId": "6b262e00-8d77-4056-87b3-d0ca6df9cd0c",
        "colab": {
          "base_uri": "https://localhost:8080/",
          "height": 255
        }
      },
      "source": [
        "model.summary()"
      ],
      "execution_count": 11,
      "outputs": [
        {
          "output_type": "stream",
          "text": [
            "Model: \"sequential_1\"\n",
            "_________________________________________________________________\n",
            "Layer (type)                 Output Shape              Param #   \n",
            "=================================================================\n",
            "densenet121 (Model)          (None, 3, 3, 1024)        7037504   \n",
            "_________________________________________________________________\n",
            "global_average_pooling2d_1 ( (None, 1024)              0         \n",
            "_________________________________________________________________\n",
            "fc1 (Dense)                  (None, 1)                 1025      \n",
            "=================================================================\n",
            "Total params: 7,038,529\n",
            "Trainable params: 6,954,881\n",
            "Non-trainable params: 83,648\n",
            "_________________________________________________________________\n"
          ],
          "name": "stdout"
        }
      ]
    },
    {
      "cell_type": "markdown",
      "metadata": {
        "id": "GgEM-G49SZZb",
        "colab_type": "text"
      },
      "source": [
        "### Plot"
      ]
    },
    {
      "cell_type": "code",
      "metadata": {
        "id": "7wPD3SRbMYaw",
        "colab_type": "code",
        "outputId": "c33831d1-6caf-4485-cfef-451107f997b0",
        "colab": {
          "base_uri": "https://localhost:8080/",
          "height": 422
        }
      },
      "source": [
        "from keras.utils.vis_utils import plot_model\n",
        "plot_model(model, show_shapes=True, show_layer_names=True)"
      ],
      "execution_count": 13,
      "outputs": [
        {
          "output_type": "execute_result",
          "data": {
            "image/png": "[encoded data removed]",
            "text/plain": [
              "<IPython.core.display.Image object>"
            ]
          },
          "metadata": {
            "tags": []
          },
          "execution_count": 13
        }
      ]
    },
    {
      "cell_type": "markdown",
      "metadata": {
        "id": "I08rfaiiOU4c",
        "colab_type": "text"
      },
      "source": [
        "#Compile & run model"
      ]
    },
    {
      "cell_type": "code",
      "metadata": {
        "id": "QbcWY8OlSuO1",
        "colab_type": "code",
        "colab": {}
      },
      "source": [
        "# PARAMS\n",
        "LEARN_RATE = 1e-3   # 1e-3\n",
        "BATCH_SIZE = 256\n",
        "EPOCHS = 10"
      ],
      "execution_count": 0,
      "outputs": []
    },
    {
      "cell_type": "code",
      "metadata": {
        "id": "DM8OJjfhMape",
        "colab_type": "code",
        "outputId": "4d725da6-7918-4f83-c34e-3709601b0073",
        "colab": {
          "base_uri": "https://localhost:8080/",
          "height": 190
        }
      },
      "source": [
        "from keras.optimizers import Adam\n",
        "import keras_metrics as k_metrics\n",
        "\n",
        "model.compile(loss='binary_crossentropy',\n",
        "              optimizer=Adam(lr=LEARN_RATE),\n",
        "              metrics = ['binary_accuracy', \n",
        "                          k_metrics.binary_precision(), \n",
        "                          k_metrics.binary_recall(),\n",
        "                          k_metrics.binary_f1_score()\n",
        "                        ])"
      ],
      "execution_count": 17,
      "outputs": [
        {
          "output_type": "stream",
          "text": [
            "WARNING:tensorflow:From /usr/local/lib/python3.6/dist-packages/keras/optimizers.py:793: The name tf.train.Optimizer is deprecated. Please use tf.compat.v1.train.Optimizer instead.\n",
            "\n",
            "WARNING:tensorflow:From /usr/local/lib/python3.6/dist-packages/keras/backend/tensorflow_backend.py:3657: The name tf.log is deprecated. Please use tf.math.log instead.\n",
            "\n",
            "WARNING:tensorflow:From /usr/local/lib/python3.6/dist-packages/tensorflow_core/python/ops/nn_impl.py:183: where (from tensorflow.python.ops.array_ops) is deprecated and will be removed in a future version.\n",
            "Instructions for updating:\n",
            "Use tf.where in 2.0, which has the same broadcast rule as np.where\n",
            "WARNING:tensorflow:From /usr/local/lib/python3.6/dist-packages/keras/backend/tensorflow_backend.py:1033: The name tf.assign_add is deprecated. Please use tf.compat.v1.assign_add instead.\n",
            "\n"
          ],
          "name": "stdout"
        }
      ]
    },
    {
      "cell_type": "code",
      "metadata": {
        "id": "-f0hy8DYKsk-",
        "colab_type": "code",
        "outputId": "9056049a-d265-4c30-b51c-cfcd92325ce3",
        "colab": {
          "base_uri": "https://localhost:8080/",
          "height": 428
        }
      },
      "source": [
        "history = model.fit(x_train, y_train,\n",
        "          batch_size=BATCH_SIZE,\n",
        "          epochs=EPOCHS,\n",
        "          validation_data=(x_test, y_test),\n",
        "          shuffle=\"batch\")"
      ],
      "execution_count": 18,
      "outputs": [
        {
          "output_type": "stream",
          "text": [
            "WARNING:tensorflow:From /usr/local/lib/python3.6/dist-packages/keras/backend/tensorflow_backend.py:1020: The name tf.assign is deprecated. Please use tf.compat.v1.assign instead.\n",
            "\n",
            "Train on 262144 samples, validate on 32768 samples\n",
            "Epoch 1/10\n",
            "262144/262144 [==============================] - 482s 2ms/step - loss: 0.3649 - binary_accuracy: 0.8413 - precision: 0.8456 - recall: 0.8351 - f1_score: 0.8403 - val_loss: 0.7252 - val_binary_accuracy: 0.7381 - val_precision: 0.7172 - val_recall: 0.7857 - val_f1_score: 0.7499\n",
            "Epoch 2/10\n",
            "262144/262144 [==============================] - 405s 2ms/step - loss: 0.2365 - binary_accuracy: 0.9042 - precision: 0.9067 - recall: 0.9011 - f1_score: 0.9039 - val_loss: 0.9564 - val_binary_accuracy: 0.7463 - val_precision: 0.7479 - val_recall: 0.7427 - val_f1_score: 0.7453\n",
            "Epoch 3/10\n",
            "262144/262144 [==============================] - 403s 2ms/step - loss: 0.1781 - binary_accuracy: 0.9309 - precision: 0.9336 - recall: 0.9277 - f1_score: 0.9306 - val_loss: 1.0139 - val_binary_accuracy: 0.7300 - val_precision: 0.6868 - val_recall: 0.8451 - val_f1_score: 0.7578\n",
            "Epoch 4/10\n",
            "262144/262144 [==============================] - 402s 2ms/step - loss: 0.1492 - binary_accuracy: 0.9433 - precision: 0.9460 - recall: 0.9403 - f1_score: 0.9432 - val_loss: 0.9542 - val_binary_accuracy: 0.7354 - val_precision: 0.9145 - val_recall: 0.5192 - val_f1_score: 0.6624\n",
            "Epoch 5/10\n",
            "262144/262144 [==============================] - 402s 2ms/step - loss: 0.1330 - binary_accuracy: 0.9497 - precision: 0.9525 - recall: 0.9466 - f1_score: 0.9495 - val_loss: 1.4715 - val_binary_accuracy: 0.6124 - val_precision: 0.9577 - val_recall: 0.2349 - val_f1_score: 0.3773\n",
            "Epoch 6/10\n",
            "262144/262144 [==============================] - 402s 2ms/step - loss: 0.1159 - binary_accuracy: 0.9569 - precision: 0.9594 - recall: 0.9542 - f1_score: 0.9568 - val_loss: 0.9459 - val_binary_accuracy: 0.6960 - val_precision: 0.7979 - val_recall: 0.5246 - val_f1_score: 0.6330\n",
            "Epoch 7/10\n",
            "262144/262144 [==============================] - 402s 2ms/step - loss: 0.1030 - binary_accuracy: 0.9619 - precision: 0.9641 - recall: 0.9595 - f1_score: 0.9618 - val_loss: 0.9540 - val_binary_accuracy: 0.7359 - val_precision: 0.9305 - val_recall: 0.5097 - val_f1_score: 0.6586\n",
            "Epoch 8/10\n",
            "262144/262144 [==============================] - 402s 2ms/step - loss: 0.0936 - binary_accuracy: 0.9658 - precision: 0.9680 - recall: 0.9635 - f1_score: 0.9658 - val_loss: 1.0035 - val_binary_accuracy: 0.7130 - val_precision: 0.9281 - val_recall: 0.4614 - val_f1_score: 0.6164\n",
            "Epoch 9/10\n",
            "262144/262144 [==============================] - 402s 2ms/step - loss: 0.0843 - binary_accuracy: 0.9691 - precision: 0.9714 - recall: 0.9667 - f1_score: 0.9691 - val_loss: 0.8810 - val_binary_accuracy: 0.7512 - val_precision: 0.8285 - val_recall: 0.6332 - val_f1_score: 0.7178\n",
            "Epoch 10/10\n",
            "262144/262144 [==============================] - 402s 2ms/step - loss: 0.0770 - binary_accuracy: 0.9723 - precision: 0.9744 - recall: 0.9700 - f1_score: 0.9722 - val_loss: 2.6461 - val_binary_accuracy: 0.5168 - val_precision: 0.8615 - val_recall: 0.0395 - val_f1_score: 0.0755\n"
          ],
          "name": "stdout"
        }
      ]
    },
    {
      "cell_type": "markdown",
      "metadata": {
        "id": "KBkFhZL-aU4i",
        "colab_type": "text"
      },
      "source": [
        "# Metrics"
      ]
    },
    {
      "cell_type": "code",
      "metadata": {
        "id": "MG44ZHO0nAkU",
        "colab_type": "code",
        "colab": {}
      },
      "source": [
        "from matplotlib import pyplot\n",
        "\n",
        "# Prepare metrics functions\n",
        "def plot_metrics(code_metrics, name_metrics):\n",
        "    pyplot.plot(history.history[code_metrics])\n",
        "    pyplot.plot(history.history['val_' + code_metrics])\n",
        "    pyplot.title('Model ' + name_metrics)\n",
        "    pyplot.ylabel(name_metrics)\n",
        "    pyplot.xlabel('Epoch')\n",
        "    pyplot.legend(['Train', 'Test'], loc='upper left')\n",
        "    pyplot.show()\n",
        "\n",
        "def show_metrics(list_metrics, name_stage, name_model):\n",
        "    name_metrics = ['accuracy', 'precision', 'recall', 'f1-score']\n",
        "    for i in range(4):\n",
        "        print(name_model + ' ' + name_stage + ' ' + \n",
        "              name_metrics[i] + ' : ' + str(list_metrics[i + 1] * 100))"
      ],
      "execution_count": 0,
      "outputs": []
    },
    {
      "cell_type": "code",
      "metadata": {
        "id": "7T_ZgHBlfyXj",
        "colab_type": "code",
        "outputId": "4a2c6e1a-a4e7-4f7f-c844-2b4dc5ece81a",
        "colab": {
          "base_uri": "https://localhost:8080/",
          "height": 204
        }
      },
      "source": [
        "prediction = model.predict(x_train)\n",
        "print(\">=0.5 (1): {}\".format(np.count_nonzero(prediction >= 0.5)))\n",
        "print(\"<0.5 (0): {}\".format(np.count_nonzero(prediction < 0.5)))\n",
        "\n",
        "print(\"1 in train : {}\".format(np.count_nonzero(y_train == 1)))\n",
        "print(\"0 in train : {}\".format(np.count_nonzero(y_train == 0)))\n",
        "\n",
        "print(prediction)"
      ],
      "execution_count": 20,
      "outputs": [
        {
          "output_type": "stream",
          "text": [
            ">=0.5 (1): 8224\n",
            "<0.5 (0): 253920\n",
            "1 in train : 131072\n",
            "0 in train : 131072\n",
            "[[0.00167194]\n",
            " [0.00238779]\n",
            " [0.00410017]\n",
            " ...\n",
            " [0.003351  ]\n",
            " [0.00046775]\n",
            " [0.01770705]]\n"
          ],
          "name": "stdout"
        }
      ]
    },
    {
      "cell_type": "code",
      "metadata": {
        "id": "x6kRNBx6e2tG",
        "colab_type": "code",
        "outputId": "24125c2c-0115-4a40-e5c1-f88a832509d5",
        "colab": {
          "base_uri": "https://localhost:8080/",
          "height": 204
        }
      },
      "source": [
        "prediction = model.predict(x_test)\n",
        "print(\">=0.5 (1): {}\".format(np.count_nonzero(prediction >= 0.5)))\n",
        "print(\"<0.5 (0): {}\".format(np.count_nonzero(prediction < 0.5)))\n",
        "\n",
        "print(\"1 in test : {}\".format(np.count_nonzero(y_test == 1)))\n",
        "print(\"0 in test : {}\".format(np.count_nonzero(y_test == 0)))\n",
        "\n",
        "print(prediction)"
      ],
      "execution_count": 21,
      "outputs": [
        {
          "output_type": "stream",
          "text": [
            ">=0.5 (1): 751\n",
            "<0.5 (0): 32017\n",
            "1 in test : 16377\n",
            "0 in test : 16391\n",
            "[[1.0997057e-04]\n",
            " [2.8551817e-03]\n",
            " [3.2157302e-03]\n",
            " ...\n",
            " [2.1352768e-03]\n",
            " [3.1292439e-05]\n",
            " [9.5596910e-04]]\n"
          ],
          "name": "stdout"
        }
      ]
    },
    {
      "cell_type": "code",
      "metadata": {
        "id": "9ZNXxRk-nFIt",
        "colab_type": "code",
        "outputId": "3293738d-f0d3-4648-8cc9-dbbdf3ebf36c",
        "colab": {
          "base_uri": "https://localhost:8080/",
          "height": 1000
        }
      },
      "source": [
        "plot_metrics('loss', 'Loss')\n",
        "plot_metrics('binary_accuracy',  'Binary accuracy')\n",
        "plot_metrics('precision', 'precision')\n",
        "plot_metrics('recall', 'recall')\n",
        "plot_metrics('f1_score',  'f1_score')"
      ],
      "execution_count": 22,
      "outputs": [
        {
          "output_type": "display_data",
          "data": {
            "image/png": "[encoded data removed]",
            "text/plain": [
              "<Figure size 432x288 with 1 Axes>"
            ]
          },
          "metadata": {
            "tags": []
          }
        },
        {
          "output_type": "display_data",
          "data": {
            "image/png": "[encoded data removed]",
            "text/plain": [
              "<Figure size 432x288 with 1 Axes>"
            ]
          },
          "metadata": {
            "tags": []
          }
        },
        {
          "output_type": "display_data",
          "data": {
            "image/png": "[encoded data removed]",
            "text/plain": [
              "<Figure size 432x288 with 1 Axes>"
            ]
          },
          "metadata": {
            "tags": []
          }
        },
        {
          "output_type": "display_data",
          "data": {
            "image/png": "[encoded data removed]",
            "text/plain": [
              "<Figure size 432x288 with 1 Axes>"
            ]
          },
          "metadata": {
            "tags": []
          }
        },
        {
          "output_type": "display_data",
          "data": {
            "image/png": "[encoded data removed]",
            "text/plain": [
              "<Figure size 432x288 with 1 Axes>"
            ]
          },
          "metadata": {
            "tags": []
          }
        }
      ]
    },
    {
      "cell_type": "code",
      "metadata": {
        "id": "O_A855KlL01l",
        "colab_type": "code",
        "outputId": "e843a665-3990-4a68-acae-8ccfa56f64a2",
        "colab": {
          "base_uri": "https://localhost:8080/",
          "height": 272
        }
      },
      "source": [
        "name_model = \"densNet121-from-scratch\"\n",
        "show_metrics(model.evaluate(x_train, y_train), 'train', name_model)\n",
        "show_metrics(model.evaluate(x_valid, y_valid), 'valid', name_model)\n",
        "show_metrics(model.evaluate(x_test,  y_test),  'test',  name_model)"
      ],
      "execution_count": 23,
      "outputs": [
        {
          "output_type": "stream",
          "text": [
            "262144/262144 [==============================] - 244s 932us/step\n",
            "densNet121-from-scratch train accuracy : 52.504730224609375\n",
            "densNet121-from-scratch train precision : 89.91974708061868\n",
            "densNet121-from-scratch train recall : 5.641937255855071\n",
            "densNet121-from-scratch train f1-score : 10.6176763527219\n",
            "32768/32768 [==============================] - 32s 984us/step\n",
            "densNet121-from-scratch valid accuracy : 51.593017578125\n",
            "densNet121-from-scratch valid precision : 86.16262480939193\n",
            "densNet121-from-scratch valid recall : 3.6899016433276928\n",
            "densNet121-from-scratch valid f1-score : 7.076742035989117\n",
            "32768/32768 [==============================] - 30s 929us/step\n",
            "densNet121-from-scratch test accuracy : 51.678466796875\n",
            "densNet121-from-scratch test precision : 86.15179759172413\n",
            "densNet121-from-scratch test recall : 3.950662514477922\n",
            "densNet121-from-scratch test f1-score : 7.554880058212432\n"
          ],
          "name": "stdout"
        }
      ]
    }
  ]
}