{
  "nbformat": 4,
  "nbformat_minor": 0,
  "metadata": {
    "colab": {
      "name": "pcam_train.ipynb",
      "provenance": [],
      "include_colab_link": true
    },
    "kernelspec": {
      "name": "python3",
      "display_name": "Python 3"
    }
  },
  "cells": [
    {
      "cell_type": "markdown",
      "metadata": {
        "id": "view-in-github",
        "colab_type": "text"
      },
      "source": [
        "<a href=\"https://colab.research.google.com/github/allnes/pcam_train/blob/master/pcam_train.ipynb\" target=\"_parent\"><img src=\"https://colab.research.google.com/assets/colab-badge.svg\" alt=\"Open In Colab\"/></a>"
      ]
    },
    {
      "cell_type": "code",
      "metadata": {
        "id": "_nMY9IssT-NZ",
        "colab_type": "code",
        "outputId": "85c0678e-8f2d-4d74-cacc-e19a97f3f850",
        "colab": {
          "base_uri": "https://localhost:8080/",
          "height": 34
        }
      },
      "source": [
        "from google.colab import drive\n",
        "drive.mount('/content/drive')"
      ],
      "execution_count": 22,
      "outputs": [
        {
          "output_type": "stream",
          "text": [
            "Drive already mounted at /content/drive; to attempt to forcibly remount, call drive.mount(\"/content/drive\", force_remount=True).\n"
          ],
          "name": "stdout"
        }
      ]
    },
    {
      "cell_type": "code",
      "metadata": {
        "id": "Fw_SUr6MUwTw",
        "colab_type": "code",
        "outputId": "17179799-7938-42df-e498-29d75aa084dc",
        "colab": {
          "base_uri": "https://localhost:8080/",
          "height": 34
        }
      },
      "source": [
        "cd  '/content/drive/My Drive/DL_PCAM'"
      ],
      "execution_count": 23,
      "outputs": [
        {
          "output_type": "stream",
          "text": [
            "/content/drive/My Drive/DL_PCAM\n"
          ],
          "name": "stdout"
        }
      ]
    },
    {
      "cell_type": "code",
      "metadata": {
        "id": "P_R8QXOZYmDp",
        "colab_type": "code",
        "outputId": "d78e5807-4a07-4766-df64-3bf04c137bb9",
        "colab": {
          "base_uri": "https://localhost:8080/",
          "height": 185
        }
      },
      "source": [
        "%ls"
      ],
      "execution_count": 24,
      "outputs": [
        {
          "output_type": "stream",
          "text": [
            "camelyonpatch_level_2_split_test_meta.csv\n",
            "camelyonpatch_level_2_split_test_x.h5.gz\n",
            "camelyonpatch_level_2_split_test_y.h5.gz\n",
            "camelyonpatch_level_2_split_train_meta.csv\n",
            "camelyonpatch_level_2_split_train_x.h5.gz\n",
            "camelyonpatch_level_2_split_train_y.h5.gz\n",
            "camelyonpatch_level_2_split_valid_meta.csv\n",
            "camelyonpatch_level_2_split_valid_x.h5.gz\n",
            "camelyonpatch_level_2_split_valid_y.h5.gz\n",
            "\u001b[0m\u001b[01;34m__pycache__\u001b[0m/\n"
          ],
          "name": "stdout"
        }
      ]
    },
    {
      "cell_type": "code",
      "metadata": {
        "id": "ziIwJtIxZIiS",
        "colab_type": "code",
        "colab": {}
      },
      "source": [
        "import gzip\n",
        "import shutil\n",
        "def uzip_file(file_name, origin_name):\n",
        "  with gzip.open(file_name, 'rb') as f_in:\n",
        "      with open(origin_name, 'wb') as f_out:\n",
        "          shutil.copyfileobj(f_in, f_out)\n"
      ],
      "execution_count": 0,
      "outputs": []
    },
    {
      "cell_type": "code",
      "metadata": {
        "id": "QyrtC7Uccbsn",
        "colab_type": "code",
        "colab": {}
      },
      "source": [
        "train_x_name = 'camelyonpatch_level_2_split_train_x.h5'\n",
        "train_y_name = 'camelyonpatch_level_2_split_train_y.h5'\n",
        "\n",
        "test_x_name = 'camelyonpatch_level_2_split_test_x.h5'\n",
        "test_y_name = 'camelyonpatch_level_2_split_test_y.h5'\n",
        "\n",
        "valid_x_name = 'camelyonpatch_level_2_split_valid_x.h5'\n",
        "valid_y_name = 'camelyonpatch_level_2_split_valid_y.h5'\n",
        "\n",
        "meta_train_name = 'camelyonpatch_level_2_split_train_meta.csv'\n",
        "meta_valid_name = 'camelyonpatch_level_2_split_valid_meta.csv'\n",
        "meta_test_name  = 'camelyonpatch_level_2_split_test_meta.csv'\n",
        "\n",
        "# uzip_file(train_x_name + '.gz', train_x_name)\n",
        "# uzip_file(train_y_name + '.gz', train_y_name)\n",
        "\n",
        "# uzip_file(test_x_name + '.gz', test_x_name)\n",
        "# uzip_file(test_y_name + '.gz', test_y_name)\n",
        "\n",
        "# uzip_file(valid_x_name + '.gz', valid_x_name)\n",
        "# uzip_file(valid_y_name + '.gz', valid_y_name)\n"
      ],
      "execution_count": 0,
      "outputs": []
    },
    {
      "cell_type": "code",
      "metadata": {
        "id": "-GZVzz90laqZ",
        "colab_type": "code",
        "colab": {}
      },
      "source": [
        "x_train = HDF5Matrix(train_x_name, 'x')\n",
        "y_train = HDF5Matrix(train_y_name, 'y')\n",
        "\n",
        "x_valid = HDF5Matrix(valid_x_name, 'x')\n",
        "y_valid = HDF5Matrix(valid_y_name, 'y')\n",
        "\n",
        "x_test = HDF5Matrix(test_x_name, 'x')\n",
        "y_test = HDF5Matrix(test_y_name, 'y')\n",
        "\n",
        "meta_train = pd.read_csv(meta_train_name)\n",
        "meta_valid = pd.read_csv(meta_valid_name)\n",
        "meta_test = pd.read_csv(meta_test_name)"
      ],
      "execution_count": 0,
      "outputs": []
    },
    {
      "cell_type": "code",
      "metadata": {
        "id": "YqDnsuWznpwv",
        "colab_type": "code",
        "colab": {
          "base_uri": "https://localhost:8080/",
          "height": 67
        },
        "outputId": "cee4780d-9864-4dd7-c63d-6eea31da581a"
      },
      "source": [
        "print(len(x_train))\n",
        "print(type(x_train[0]))\n",
        "print(x_train[0].shape)"
      ],
      "execution_count": 38,
      "outputs": [
        {
          "output_type": "stream",
          "text": [
            "262144\n",
            "<class 'numpy.ndarray'>\n",
            "(96, 96, 3)\n"
          ],
          "name": "stdout"
        }
      ]
    }
  ]
}